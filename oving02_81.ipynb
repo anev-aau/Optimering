{
 "cells": [
  {
   "cell_type": "markdown",
   "metadata": {},
   "source": [
    "Possible solution to exercise 8.1 using Python.\n",
    "\n",
    "One way is to use Python's symbolic algebra package SymPy.\n",
    "We begin by importing SymPy and defining the symbols - I will use $x$,$y$,$z$, and $\\alpha$."
   ]
  },
  {
   "cell_type": "code",
   "execution_count": 2,
   "metadata": {},
   "outputs": [],
   "source": [
    "import sympy as sp\n",
    "x,y,z,alpha = sp.symbols('x y z alpha')"
   ]
  },
  {
   "cell_type": "markdown",
   "metadata": {},
   "source": [
    "We can now define f symbolically"
   ]
  },
  {
   "cell_type": "code",
   "execution_count": 11,
   "metadata": {},
   "outputs": [
    {
     "data": {
      "text/latex": [
       "$\\displaystyle 2 x^{2} + x y - 6 x + y^{2} + y z - 7 y + z^{2} - 8 z + 9$"
      ],
      "text/plain": [
       "2*x**2 + x*y - 6*x + y**2 + y*z - 7*y + z**2 - 8*z + 9"
      ]
     },
     "execution_count": 11,
     "metadata": {},
     "output_type": "execute_result"
    }
   ],
   "source": [
    "f = 2*x**2 + x*y + y**2 + y*z + z**2 - 6*x - 7*y - 8*z + 9\n",
    "f"
   ]
  },
  {
   "cell_type": "markdown",
   "metadata": {},
   "source": [
    "Let us calculate the gradient:"
   ]
  },
  {
   "cell_type": "code",
   "execution_count": 12,
   "metadata": {},
   "outputs": [
    {
     "data": {
      "text/latex": [
       "$\\displaystyle \\left[\\begin{matrix}4 x + y - 6\\\\x + 2 y + z - 7\\\\y + 2 z - 8\\end{matrix}\\right]$"
      ],
      "text/plain": [
       "Matrix([\n",
       "[    4*x + y - 6],\n",
       "[x + 2*y + z - 7],\n",
       "[    y + 2*z - 8]])"
      ]
     },
     "execution_count": 12,
     "metadata": {},
     "output_type": "execute_result"
    }
   ],
   "source": [
    "df = sp.Matrix([f.diff(x),f.diff(y),f.diff(z)])\n",
    "df"
   ]
  },
  {
   "cell_type": "markdown",
   "metadata": {},
   "source": [
    "Search direction:"
   ]
  },
  {
   "cell_type": "code",
   "execution_count": 13,
   "metadata": {},
   "outputs": [],
   "source": [
    "p = sp.Matrix([1,2,0])"
   ]
  },
  {
   "cell_type": "markdown",
   "metadata": {},
   "source": [
    "Let us now verify that $\\nabla f(0,0,0)^T p < 0$, that is that $p$ is a descent direction at $0$:"
   ]
  },
  {
   "cell_type": "code",
   "execution_count": 33,
   "metadata": {},
   "outputs": [
    {
     "data": {
      "text/latex": [
       "$\\displaystyle -20$"
      ],
      "text/plain": [
       "-20"
      ]
     },
     "execution_count": 33,
     "metadata": {},
     "output_type": "execute_result"
    }
   ],
   "source": [
    "df0 = df.subs([(x,0),(y,0),(z,0)])\n",
    "df0.dot(p)"
   ]
  },
  {
   "cell_type": "markdown",
   "metadata": {},
   "source": [
    "Let us now solve for $\\alpha$ satisfying the sufficient decrease condition:"
   ]
  },
  {
   "cell_type": "code",
   "execution_count": 31,
   "metadata": {},
   "outputs": [
    {
     "data": {
      "text/latex": [
       "$\\displaystyle 0 \\leq \\alpha \\wedge \\alpha \\leq 0.5$"
      ],
      "text/plain": [
       "(0 <= alpha) & (alpha <= 0.5)"
      ]
     },
     "execution_count": 31,
     "metadata": {},
     "output_type": "execute_result"
    }
   ],
   "source": [
    "c1 = 4/5\n",
    "f_alpha = f.subs([(x,0+alpha*p[0]),(y,0+alpha*p[1]),(z,0+alpha*p[2])])\n",
    "f0      = f_alpha.subs(alpha,0)\n",
    "sp.solve(f_alpha <= f0 + c1*alpha*df0.dot(p))"
   ]
  },
  {
   "cell_type": "markdown",
   "metadata": {},
   "source": [
    "Therefore the sufficient decrease condition is satisfied, if $\\alpha \\in [0,0.5]$"
   ]
  },
  {
   "cell_type": "markdown",
   "metadata": {},
   "source": [
    "Of course not everything can be done using symbolic computations.  One could e.g. plot a picture and see approximately where the lines intersect: "
   ]
  },
  {
   "cell_type": "code",
   "execution_count": 56,
   "metadata": {},
   "outputs": [
    {
     "data": {
      "text/plain": [
       "<matplotlib.legend.Legend at 0x7fc40892ad30>"
      ]
     },
     "execution_count": 56,
     "metadata": {},
     "output_type": "execute_result"
    },
    {
     "data": {
      "image/png": "[encoded data removed]",
      "text/plain": [
       "<Figure size 432x288 with 1 Axes>"
      ]
     },
     "metadata": {
      "needs_background": "light"
     },
     "output_type": "display_data"
    }
   ],
   "source": [
    "import numpy as np\n",
    "import matplotlib.pyplot as plt\n",
    "\n",
    "def f(x):\n",
    "    return 2*x[0]**2 + x[0]*x[1] + x[1]**2 + x[1]*x[2] + x[2]**2 - 6*x[0] - 7*x[1] - 8*x[2] + 9\n",
    "\n",
    "def df(x):\n",
    "    return np.array([4*x[0]+x[1]-6, x[0]+2*x[1]+x[2]-7, x[1]+2*x[2]-8])\n",
    "\n",
    "x0= np.zeros(3)\n",
    "p = np.array([1.0, 2.0, 0.0])\n",
    "c1= 4/5.\n",
    "\n",
    "def phi(alpha):\n",
    "    return f(x0 + alpha*p)\n",
    "\n",
    "def ell(alpha):\n",
    "    return f(x0) + c1*alpha*df(x0).dot(p)\n",
    "\n",
    "alpha = np.linspace(0,1.0,100)\n",
    "plt.plot(alpha, ell(alpha), 'g', label='$\\ell$')\n",
    "plt.plot(alpha, np.vectorize(phi)(alpha), 'r', label='$\\phi$')\n",
    "plt.xlabel('alpha')\n",
    "plt.ylabel('f')\n",
    "plt.grid(True)\n",
    "plt.legend(loc='upper right')"
   ]
  },
  {
   "cell_type": "markdown",
   "metadata": {},
   "source": [
    "After this, we could run for example the classical bisection algorithm to find out more precisely, where the lines intersect.  Indeed, we can see that for $\\alpha = 0.2$ the green line is above the red (sufficient decrease is satisfied) whereas for $\\alpha = 1.0$ is below.  This could be our initial bracket."
   ]
  },
  {
   "cell_type": "code",
   "execution_count": 58,
   "metadata": {},
   "outputs": [
    {
     "name": "stdout",
     "output_type": "stream",
     "text": [
      "Current bracket: [2.000000e-01, 1.000000e+00]\n",
      "Current bracket: [2.000000e-01, 6.000000e-01]\n",
      "Current bracket: [4.000000e-01, 6.000000e-01]\n",
      "Current bracket: [4.000000e-01, 5.000000e-01]\n",
      "Current bracket: [4.500000e-01, 5.000000e-01]\n",
      "Current bracket: [4.750000e-01, 5.000000e-01]\n",
      "Current bracket: [4.875000e-01, 5.000000e-01]\n",
      "Current bracket: [4.937500e-01, 5.000000e-01]\n",
      "Current bracket: [4.968750e-01, 5.000000e-01]\n",
      "Current bracket: [4.984375e-01, 5.000000e-01]\n",
      "Current bracket: [4.992187e-01, 5.000000e-01]\n",
      "Current bracket: [4.996094e-01, 5.000000e-01]\n",
      "Current bracket: [4.998047e-01, 5.000000e-01]\n",
      "Current bracket: [4.999023e-01, 5.000000e-01]\n",
      "Current bracket: [4.999512e-01, 5.000000e-01]\n",
      "Current bracket: [4.999756e-01, 5.000000e-01]\n",
      "Current bracket: [4.999878e-01, 5.000000e-01]\n",
      "Current bracket: [4.999939e-01, 5.000000e-01]\n",
      "Current bracket: [4.999969e-01, 5.000000e-01]\n",
      "Current bracket: [4.999985e-01, 5.000000e-01]\n",
      "Current bracket: [4.999992e-01, 5.000000e-01]\n",
      "Current bracket: [4.999996e-01, 5.000000e-01]\n",
      "Current bracket: [4.999998e-01, 5.000000e-01]\n",
      "Current bracket: [4.999999e-01, 5.000000e-01]\n",
      "Current bracket: [5.000000e-01, 5.000000e-01]\n",
      "Current bracket: [5.000000e-01, 5.000000e-01]\n",
      "Current bracket: [5.000000e-01, 5.000000e-01]\n",
      "Current bracket: [5.000000e-01, 5.000000e-01]\n",
      "Current bracket: [5.000000e-01, 5.000000e-01]\n",
      "Current bracket: [5.000000e-01, 5.000000e-01]\n",
      "Current bracket: [5.000000e-01, 5.000000e-01]\n",
      "Current bracket: [5.000000e-01, 5.000000e-01]\n",
      "Current bracket: [5.000000e-01, 5.000000e-01]\n",
      "Final alpha = 5.000000e-01\n"
     ]
    }
   ],
   "source": [
    "alpha_min = 0.2\n",
    "alpha_max = 1.0\n",
    "\n",
    "while alpha_max - alpha_min > 1.0E-10:\n",
    "    alpha = 0.5*(alpha_min + alpha_max)\n",
    "    print('Current bracket: [%e, %e]' % (alpha_min, alpha_max))\n",
    "    if ell(alpha)>phi(alpha):\n",
    "        alpha_min = alpha\n",
    "    else:\n",
    "        alpha_max = alpha\n",
    "\n",
    "print('Final alpha = %e' % alpha)"
   ]
  }
 ],
 "metadata": {
  "kernelspec": {
   "display_name": "Python 3",
   "language": "python",
   "name": "python3"
  },
  "language_info": {
   "codemirror_mode": {
    "name": "ipython",
    "version": 3
   },
   "file_extension": ".py",
   "mimetype": "text/x-python",
   "name": "python",
   "nbconvert_exporter": "python",
   "pygments_lexer": "ipython3",
   "version": "3.8.5"
  }
 },
 "nbformat": 4,
 "nbformat_minor": 4
}
